{
 "cells": [
  {
   "cell_type": "markdown",
   "metadata": {},
   "source": [
    "# Data Challenge: Happy Hotel"
   ]
  },
  {
   "cell_type": "markdown",
   "metadata": {},
   "source": [
    "### Step 1: importing and cleaning data"
   ]
  },
  {
   "cell_type": "code",
   "execution_count": 2,
   "metadata": {},
   "outputs": [],
   "source": [
    "# import packages to be used\n",
    "\n",
    "import os\n",
    "import pandas as pd\n",
    "import numpy as np\n",
    "import matplotlib.pyplot as plt\n",
    "import seaborn as sns"
   ]
  },
  {
   "cell_type": "code",
   "execution_count": 117,
   "metadata": {},
   "outputs": [
    {
     "name": "stdout",
     "output_type": "stream",
     "text": [
      "<class 'pandas.core.frame.DataFrame'>\n",
      "RangeIndex: 26521 entries, 0 to 26520\n",
      "Data columns (total 4 columns):\n",
      "User_ID        26521 non-null object\n",
      "Description    26521 non-null object\n",
      "Is_Response    26521 non-null object\n",
      "hotel_ID       26521 non-null int64\n",
      "dtypes: int64(1), object(3)\n",
      "memory usage: 828.9+ KB\n",
      "<class 'pandas.core.frame.DataFrame'>\n",
      "RangeIndex: 12411 entries, 0 to 12410\n",
      "Data columns (total 4 columns):\n",
      "User_ID        12411 non-null object\n",
      "Description    12411 non-null object\n",
      "Is_Response    12411 non-null object\n",
      "hotel_ID       12411 non-null int64\n",
      "dtypes: int64(1), object(3)\n",
      "memory usage: 388.0+ KB\n"
     ]
    }
   ],
   "source": [
    "## loading data\n",
    "\n",
    "os.getcwd()\n",
    "os.chdir('C:/Users/Huajun/Desktop/Data challenge/')\n",
    "file = 'hotel_happy_reviews.csv'\n",
    "data = pd.read_csv(file)\n",
    "data.info()\n",
    "\n",
    "file2 = 'hotel_not_happy_reviews.csv'\n",
    "data2 = pd.read_csv(file2)\n",
    "data2.info()"
   ]
  },
  {
   "cell_type": "code",
   "execution_count": 118,
   "metadata": {},
   "outputs": [
    {
     "name": "stdout",
     "output_type": "stream",
     "text": [
      "26521\n",
      "10\n",
      "26521\n",
      "12411\n",
      "10\n",
      "12411\n"
     ]
    }
   ],
   "source": [
    "## Cleaning data\n",
    "# check for unique values\n",
    "print(len(data['User_ID'].unique()))\n",
    "print(len(data['hotel_ID'].unique()))\n",
    "print(len(data['Description'].unique()))\n",
    "\n",
    "print(len(data2['User_ID'].unique()))\n",
    "print(len(data2['hotel_ID'].unique()))\n",
    "print(len(data2['Description'].unique()))"
   ]
  },
  {
   "cell_type": "code",
   "execution_count": 119,
   "metadata": {},
   "outputs": [
    {
     "name": "stdout",
     "output_type": "stream",
     "text": [
      "happy    26521\n",
      "Name: Is_Response, dtype: int64\n",
      "not happy    12411\n",
      "Name: Is_Response, dtype: int64\n"
     ]
    }
   ],
   "source": [
    "print(data['Is_Response'].value_counts())\n",
    "print(data2['Is_Response'].value_counts())"
   ]
  },
  {
   "cell_type": "code",
   "execution_count": 120,
   "metadata": {},
   "outputs": [
    {
     "name": "stdout",
     "output_type": "stream",
     "text": [
      "<class 'pandas.core.frame.DataFrame'>\n",
      "Int64Index: 38932 entries, 0 to 12410\n",
      "Data columns (total 4 columns):\n",
      "User_ID        38932 non-null object\n",
      "Description    38932 non-null object\n",
      "Is_Response    38932 non-null object\n",
      "hotel_ID       38932 non-null int64\n",
      "dtypes: int64(1), object(3)\n",
      "memory usage: 1.5+ MB\n"
     ]
    }
   ],
   "source": [
    "## appending two data files together\n",
    "\n",
    "data = data.append(data2)\n",
    "data.info()"
   ]
  },
  {
   "cell_type": "code",
   "execution_count": 121,
   "metadata": {},
   "outputs": [
    {
     "name": "stdout",
     "output_type": "stream",
     "text": [
      "38932\n",
      "10\n",
      "38932\n"
     ]
    }
   ],
   "source": [
    "# double check again for unique values\n",
    "\n",
    "print(len(data['User_ID'].unique()))\n",
    "print(len(data['hotel_ID'].unique()))\n",
    "print(len(data['Description'].unique()))"
   ]
  },
  {
   "cell_type": "code",
   "execution_count": 122,
   "metadata": {},
   "outputs": [
    {
     "name": "stdout",
     "output_type": "stream",
     "text": [
      "happy        26521\n",
      "not happy    12411\n",
      "Name: Is_Response, dtype: int64\n"
     ]
    }
   ],
   "source": [
    "print(data['Is_Response'].value_counts())"
   ]
  },
  {
   "cell_type": "markdown",
   "metadata": {},
   "source": [
    "### Step 2: Identify topics within all hotel reviews"
   ]
  },
  {
   "cell_type": "code",
   "execution_count": 34,
   "metadata": {},
   "outputs": [],
   "source": [
    "# import packages to be used\n",
    "import re\n",
    "from sklearn.feature_extraction.text import CountVectorizer\n",
    "from sklearn.decomposition import LatentDirichletAllocation as LDA\n",
    "import gensim\n",
    "from gensim import corpora, models\n",
    "from nltk.corpus import stopwords"
   ]
  },
  {
   "cell_type": "code",
   "execution_count": 124,
   "metadata": {},
   "outputs": [
    {
     "data": {
      "text/plain": [
       "0    Stayed here with husband and sons on the way t...\n",
       "1    We had - rooms. One was very nice and clearly ...\n",
       "2    My wife & I stayed in this glorious city a whi...\n",
       "3    My boyfriend and I stayed at the Fairmont on a...\n",
       "4    Steps off Times Square, nice rooms, stayed - n...\n",
       "5    Me, the Wife and - kids stayed here on Valenti...\n",
       "6    I highly recommend the Hawthorne Terrace as an...\n",
       "7    I found the hotel clean and nicely located. Go...\n",
       "8    Stayed at the Elan from --th to --th October a...\n",
       "9    We stayed here for - nights and were really ha...\n",
       "Name: Description, dtype: object"
      ]
     },
     "execution_count": 124,
     "metadata": {},
     "output_type": "execute_result"
    }
   ],
   "source": [
    "data['Description'][:10]"
   ]
  },
  {
   "cell_type": "code",
   "execution_count": 126,
   "metadata": {},
   "outputs": [
    {
     "data": {
      "text/plain": [
       "0    stayed here with husband and sons on the way t...\n",
       "1    we had - rooms one was very nice and clearly h...\n",
       "2    my wife  i stayed in this glorious city a whil...\n",
       "3    my boyfriend and i stayed at the fairmont on a...\n",
       "4    steps off times square nice rooms stayed - nig...\n",
       "5    me the wife and - kids stayed here on valentin...\n",
       "6    i highly recommend the hawthorne terrace as an...\n",
       "7    i found the hotel clean and nicely located goo...\n",
       "8    stayed at the elan from --th to --th october a...\n",
       "9    we stayed here for - nights and were really ha...\n",
       "Name: Description, dtype: object"
      ]
     },
     "execution_count": 126,
     "metadata": {},
     "output_type": "execute_result"
    }
   ],
   "source": [
    "# preprocess texts in reviews\n",
    "data['Description'] = data['Description'].map(lambda x: re.sub('[,\\.!?&]', '', x))\n",
    "data['Description'] = data['Description'].map(lambda x: x.lower())\n",
    "data['Description'][:10]"
   ]
  },
  {
   "cell_type": "code",
   "execution_count": 27,
   "metadata": {},
   "outputs": [],
   "source": [
    "# plotting the top 20 most common words within these reviews (not differentiating happy or not for now)\n",
    "\n",
    "def plot_20_most_common_words(count_data, count_vectorizer):\n",
    "    words = count_vectorizer.get_feature_names()\n",
    "    total_counts = np.zeros(len(words))\n",
    "    for t in count_data:\n",
    "        total_counts+=t.toarray()[0]\n",
    "\n",
    "    count_dict = (zip(words, total_counts))\n",
    "    count_dict = sorted(count_dict, key=lambda x:x[1], reverse=True)[0:20]\n",
    "    words = [w[0] for w in count_dict]\n",
    "    counts = [w[1] for w in count_dict]\n",
    "    x_pos = np.arange(len(words)) \n",
    "\n",
    "    plt.figure(2, figsize=(15, 15/1.6180))\n",
    "    plt.subplot(title='20 most common words')\n",
    "    sns.set_context(\"notebook\", font_scale=1.25, rc={\"lines.linewidth\": 2.5})\n",
    "    sns.barplot(x_pos, counts, palette='husl')\n",
    "    plt.xticks(x_pos, words, rotation=90) \n",
    "    plt.xlabel('words')\n",
    "    plt.ylabel('counts')\n",
    "    plt.show()"
   ]
  },
  {
   "cell_type": "code",
   "execution_count": 28,
   "metadata": {},
   "outputs": [
    {
     "data": {
      "image/png": "[encoded data removed]",
      "text/plain": [
       "<Figure size 1080x667.491 with 1 Axes>"
      ]
     },
     "metadata": {
      "needs_background": "light"
     },
     "output_type": "display_data"
    }
   ],
   "source": [
    "# remove stopwords and plot the top common words\n",
    "count_vectorizer = CountVectorizer(stop_words='english')\n",
    "count_data = count_vectorizer.fit_transform(data['Description'])\n",
    "plot_20_most_common_words(count_data, count_vectorizer)"
   ]
  },
  {
   "cell_type": "code",
   "execution_count": 127,
   "metadata": {},
   "outputs": [
    {
     "name": "stderr",
     "output_type": "stream",
     "text": [
      "[nltk_data] Downloading package stopwords to\n",
      "[nltk_data]     C:\\Users\\Huajun\\AppData\\Roaming\\nltk_data...\n",
      "[nltk_data]   Package stopwords is already up-to-date!\n"
     ]
    }
   ],
   "source": [
    "# top 20 common words not super informative, so decided to tokenize and use LDA models for topic modeling\n",
    "\n",
    "import nltk\n",
    "nltk.download('stopwords')\n",
    "list_stopwords = stopwords.words('English')"
   ]
  },
  {
   "cell_type": "code",
   "execution_count": 132,
   "metadata": {},
   "outputs": [
    {
     "data": {
      "text/plain": [
       "['i', 'me', 'my', 'myself', 'we', 'our', 'ours', 'ourselves', 'you', \"you're\"]"
      ]
     },
     "execution_count": 132,
     "metadata": {},
     "output_type": "execute_result"
    }
   ],
   "source": [
    "list_stopwords[0:10]"
   ]
  },
  {
   "cell_type": "code",
   "execution_count": 134,
   "metadata": {},
   "outputs": [
    {
     "data": {
      "text/plain": [
       "0    [stayed, husband, sons, way, alaska, cruise, l...\n",
       "0    [room, kind, clean, strong, smell, dogs, gener...\n",
       "Name: tokenized_des, dtype: object"
      ]
     },
     "execution_count": 134,
     "metadata": {},
     "output_type": "execute_result"
    }
   ],
   "source": [
    "# split each review into words and then remove stopwords\n",
    "\n",
    "data['tokenized_des'] = data['Description'].apply(lambda x: x.split())\n",
    "data['tokenized_des'] = data['tokenized_des'].map(lambda tokens: [token.lower() for token in tokens if token.isalpha() \\\n",
    "                                                    and token.lower() not in list_stopwords and len(token)>1])\n",
    "data['tokenized_des'][0]"
   ]
  },
  {
   "cell_type": "code",
   "execution_count": 135,
   "metadata": {},
   "outputs": [
    {
     "data": {
      "text/plain": [
       "['stayed',\n",
       " 'husband',\n",
       " 'sons',\n",
       " 'way',\n",
       " 'alaska',\n",
       " 'cruise',\n",
       " 'loved',\n",
       " 'hotel',\n",
       " 'great',\n",
       " 'experience',\n",
       " 'ask',\n",
       " 'room',\n",
       " 'north',\n",
       " 'tower',\n",
       " 'facing',\n",
       " 'north',\n",
       " 'west',\n",
       " 'best',\n",
       " 'views',\n",
       " 'high',\n",
       " 'floor',\n",
       " 'stunning',\n",
       " 'view',\n",
       " 'needle',\n",
       " 'city',\n",
       " 'even',\n",
       " 'cruise',\n",
       " 'ships',\n",
       " 'ordered',\n",
       " 'room',\n",
       " 'service',\n",
       " 'dinner',\n",
       " 'could',\n",
       " 'enjoy',\n",
       " 'perfect',\n",
       " 'views',\n",
       " 'room',\n",
       " 'service',\n",
       " 'dinners',\n",
       " 'delicious',\n",
       " 'perfect',\n",
       " 'spot',\n",
       " 'walk',\n",
       " 'everywhere',\n",
       " 'enjoy',\n",
       " 'city',\n",
       " 'almost',\n",
       " 'heavenly',\n",
       " 'beds',\n",
       " 'heavenly']"
      ]
     },
     "execution_count": 135,
     "metadata": {},
     "output_type": "execute_result"
    }
   ],
   "source": [
    "# convert each tokenized review into list of string/words\n",
    "tokens = data['tokenized_des'].to_list()\n",
    "tokens[0]"
   ]
  },
  {
   "cell_type": "code",
   "execution_count": 136,
   "metadata": {},
   "outputs": [],
   "source": [
    "# initialize corpora object for LDA models\n",
    "\n",
    "dictionary_LDA = corpora.Dictionary(tokens)\n",
    "dictionary_LDA.filter_extremes(no_below=3)\n",
    "corpus = [dictionary_LDA.doc2bow(token) for token in tokens]"
   ]
  },
  {
   "cell_type": "code",
   "execution_count": 137,
   "metadata": {},
   "outputs": [
    {
     "name": "stdout",
     "output_type": "stream",
     "text": [
      "Wall time: 4min 7s\n"
     ]
    }
   ],
   "source": [
    "# choose 10 numbers of topics for LDA model\n",
    "\n",
    "num_topics = 10\n",
    "%time lda_model = models.LdaModel(corpus, num_topics=num_topics, \\\n",
    "                                  id2word=dictionary_LDA, \\\n",
    "                                  passes=4, alpha=[0.01]*num_topics, \\\n",
    "                                  eta=[0.01]*len(dictionary_LDA.keys()))"
   ]
  },
  {
   "cell_type": "code",
   "execution_count": 138,
   "metadata": {},
   "outputs": [
    {
     "data": {
      "text/plain": [
       "[(0,\n",
       "  '0.026*\"service\" + 0.011*\"one\" + 0.009*\"get\" + 0.008*\"bar\" + 0.008*\"food\" + 0.007*\"desk\" + 0.007*\"front\" + 0.007*\"like\" + 0.007*\"restaurant\" + 0.007*\"staff\"'),\n",
       " (1,\n",
       "  '0.012*\"rooms\" + 0.011*\"like\" + 0.011*\"bathroom\" + 0.011*\"bed\" + 0.010*\"one\" + 0.009*\"would\" + 0.008*\"nice\" + 0.008*\"stay\" + 0.008*\"place\" + 0.007*\"good\"'),\n",
       " (2,\n",
       "  '0.045*\"breakfast\" + 0.022*\"coffee\" + 0.016*\"free\" + 0.012*\"area\" + 0.011*\"nice\" + 0.010*\"good\" + 0.010*\"clean\" + 0.009*\"also\" + 0.007*\"two\" + 0.007*\"hot\"'),\n",
       " (3,\n",
       "  '0.023*\"staff\" + 0.021*\"stay\" + 0.013*\"stayed\" + 0.012*\"great\" + 0.010*\"new\" + 0.010*\"time\" + 0.009*\"would\" + 0.009*\"us\" + 0.009*\"service\" + 0.009*\"location\"'),\n",
       " (4,\n",
       "  '0.021*\"us\" + 0.016*\"would\" + 0.015*\"desk\" + 0.015*\"told\" + 0.013*\"front\" + 0.013*\"night\" + 0.010*\"back\" + 0.010*\"one\" + 0.009*\"got\" + 0.009*\"said\"'),\n",
       " (5,\n",
       "  '0.041*\"airport\" + 0.030*\"shuttle\" + 0.026*\"staff\" + 0.019*\"stay\" + 0.017*\"inn\" + 0.014*\"front\" + 0.014*\"clean\" + 0.014*\"service\" + 0.014*\"desk\" + 0.012*\"us\"'),\n",
       " (6,\n",
       "  '0.012*\"walk\" + 0.010*\"times\" + 0.009*\"square\" + 0.009*\"good\" + 0.009*\"get\" + 0.008*\"street\" + 0.008*\"small\" + 0.008*\"also\" + 0.008*\"location\" + 0.007*\"new\"'),\n",
       " (7,\n",
       "  '0.032*\"great\" + 0.027*\"location\" + 0.022*\"staff\" + 0.017*\"rooms\" + 0.016*\"good\" + 0.016*\"clean\" + 0.015*\"nice\" + 0.015*\"stay\" + 0.013*\"friendly\" + 0.011*\"comfortable\"'),\n",
       " (8,\n",
       "  '0.027*\"parking\" + 0.014*\"free\" + 0.012*\"internet\" + 0.012*\"good\" + 0.011*\"car\" + 0.010*\"night\" + 0.009*\"stay\" + 0.009*\"get\" + 0.009*\"location\" + 0.008*\"hotels\"'),\n",
       " (9,\n",
       "  '0.047*\"pool\" + 0.015*\"area\" + 0.015*\"san\" + 0.013*\"great\" + 0.013*\"kids\" + 0.013*\"nice\" + 0.010*\"stay\" + 0.009*\"diego\" + 0.009*\"la\" + 0.009*\"place\"')]"
      ]
     },
     "execution_count": 138,
     "metadata": {},
     "output_type": "execute_result"
    }
   ],
   "source": [
    "lda_model.print_topics()"
   ]
  },
  {
   "cell_type": "code",
   "execution_count": 139,
   "metadata": {},
   "outputs": [
    {
     "data": {
      "text/plain": [
       "[(0, 0.07178173),\n",
       " (1, 0.039751418),\n",
       " (5, 0.052220315),\n",
       " (7, 0.706375),\n",
       " (9, 0.12878472)]"
      ]
     },
     "execution_count": 139,
     "metadata": {},
     "output_type": "execute_result"
    }
   ],
   "source": [
    "lda_model[corpus[0]]\n",
    "\n",
    "# first corpus description is 70.6% about topic 7 and 12.9% about topic 9"
   ]
  },
  {
   "cell_type": "markdown",
   "metadata": {},
   "source": [
    "### Step 3: Create topic-review matrix and merge back to original dataframe"
   ]
  },
  {
   "cell_type": "code",
   "execution_count": 142,
   "metadata": {},
   "outputs": [
    {
     "name": "stdout",
     "output_type": "stream",
     "text": [
      "Wall time: 53.3 s\n"
     ]
    },
    {
     "data": {
      "text/plain": [
       "38932"
      ]
     },
     "execution_count": 142,
     "metadata": {},
     "output_type": "execute_result"
    }
   ],
   "source": [
    "%%time\n",
    "topics = [lda_model[corpus[i]] for i in range(len(data))]\n",
    "len(topics)"
   ]
  },
  {
   "cell_type": "code",
   "execution_count": 143,
   "metadata": {},
   "outputs": [],
   "source": [
    "# define function to create df where topics as columns and rows as input document\n",
    "\n",
    "def topics_document_to_dataframe(topics_document, num_topics):\n",
    "    res = pd.DataFrame(columns=range(num_topics))\n",
    "    for topic_weight in topics_document:\n",
    "        res.loc[0, topic_weight[0]] = topic_weight[1]\n",
    "    return res"
   ]
  },
  {
   "cell_type": "code",
   "execution_count": 144,
   "metadata": {},
   "outputs": [],
   "source": [
    "# create a matrix of topic weighting, with documents/reviews as rows and topics as columns\n",
    "document_topic = \\\n",
    "pd.concat([topics_document_to_dataframe(topics_document, num_topics=num_topics) for topics_document in topics]) \\\n",
    "  .reset_index(drop=True).fillna(0)"
   ]
  },
  {
   "cell_type": "code",
   "execution_count": 145,
   "metadata": {},
   "outputs": [
    {
     "data": {
      "text/html": [
       "<div>\n",
       "<style scoped>\n",
       "    .dataframe tbody tr th:only-of-type {\n",
       "        vertical-align: middle;\n",
       "    }\n",
       "\n",
       "    .dataframe tbody tr th {\n",
       "        vertical-align: top;\n",
       "    }\n",
       "\n",
       "    .dataframe thead th {\n",
       "        text-align: right;\n",
       "    }\n",
       "</style>\n",
       "<table border=\"1\" class=\"dataframe\">\n",
       "  <thead>\n",
       "    <tr style=\"text-align: right;\">\n",
       "      <th></th>\n",
       "      <th>0</th>\n",
       "      <th>1</th>\n",
       "      <th>2</th>\n",
       "      <th>3</th>\n",
       "      <th>4</th>\n",
       "      <th>5</th>\n",
       "      <th>6</th>\n",
       "      <th>7</th>\n",
       "      <th>8</th>\n",
       "      <th>9</th>\n",
       "    </tr>\n",
       "  </thead>\n",
       "  <tbody>\n",
       "    <tr>\n",
       "      <td>0</td>\n",
       "      <td>0.071781</td>\n",
       "      <td>0.039751</td>\n",
       "      <td>0.000000</td>\n",
       "      <td>0.000000</td>\n",
       "      <td>0.0</td>\n",
       "      <td>0.052226</td>\n",
       "      <td>0.000000</td>\n",
       "      <td>0.706418</td>\n",
       "      <td>0.000000</td>\n",
       "      <td>0.128737</td>\n",
       "    </tr>\n",
       "    <tr>\n",
       "      <td>1</td>\n",
       "      <td>0.000000</td>\n",
       "      <td>0.443454</td>\n",
       "      <td>0.000000</td>\n",
       "      <td>0.000000</td>\n",
       "      <td>0.0</td>\n",
       "      <td>0.000000</td>\n",
       "      <td>0.253661</td>\n",
       "      <td>0.103622</td>\n",
       "      <td>0.000000</td>\n",
       "      <td>0.198086</td>\n",
       "    </tr>\n",
       "    <tr>\n",
       "      <td>2</td>\n",
       "      <td>0.000000</td>\n",
       "      <td>0.077330</td>\n",
       "      <td>0.000000</td>\n",
       "      <td>0.373155</td>\n",
       "      <td>0.0</td>\n",
       "      <td>0.000000</td>\n",
       "      <td>0.000000</td>\n",
       "      <td>0.548516</td>\n",
       "      <td>0.000000</td>\n",
       "      <td>0.000000</td>\n",
       "    </tr>\n",
       "    <tr>\n",
       "      <td>3</td>\n",
       "      <td>0.225273</td>\n",
       "      <td>0.000000</td>\n",
       "      <td>0.000000</td>\n",
       "      <td>0.674118</td>\n",
       "      <td>0.0</td>\n",
       "      <td>0.000000</td>\n",
       "      <td>0.000000</td>\n",
       "      <td>0.000000</td>\n",
       "      <td>0.099121</td>\n",
       "      <td>0.000000</td>\n",
       "    </tr>\n",
       "    <tr>\n",
       "      <td>4</td>\n",
       "      <td>0.000000</td>\n",
       "      <td>0.000000</td>\n",
       "      <td>0.000000</td>\n",
       "      <td>0.000000</td>\n",
       "      <td>0.0</td>\n",
       "      <td>0.000000</td>\n",
       "      <td>0.000000</td>\n",
       "      <td>0.991089</td>\n",
       "      <td>0.000000</td>\n",
       "      <td>0.000000</td>\n",
       "    </tr>\n",
       "    <tr>\n",
       "      <td>5</td>\n",
       "      <td>0.128236</td>\n",
       "      <td>0.000000</td>\n",
       "      <td>0.000000</td>\n",
       "      <td>0.000000</td>\n",
       "      <td>0.0</td>\n",
       "      <td>0.000000</td>\n",
       "      <td>0.000000</td>\n",
       "      <td>0.387117</td>\n",
       "      <td>0.000000</td>\n",
       "      <td>0.482652</td>\n",
       "    </tr>\n",
       "    <tr>\n",
       "      <td>6</td>\n",
       "      <td>0.000000</td>\n",
       "      <td>0.000000</td>\n",
       "      <td>0.000000</td>\n",
       "      <td>0.000000</td>\n",
       "      <td>0.0</td>\n",
       "      <td>0.076785</td>\n",
       "      <td>0.000000</td>\n",
       "      <td>0.799350</td>\n",
       "      <td>0.122276</td>\n",
       "      <td>0.000000</td>\n",
       "    </tr>\n",
       "    <tr>\n",
       "      <td>7</td>\n",
       "      <td>0.000000</td>\n",
       "      <td>0.315085</td>\n",
       "      <td>0.000000</td>\n",
       "      <td>0.000000</td>\n",
       "      <td>0.0</td>\n",
       "      <td>0.223108</td>\n",
       "      <td>0.062163</td>\n",
       "      <td>0.000000</td>\n",
       "      <td>0.397251</td>\n",
       "      <td>0.000000</td>\n",
       "    </tr>\n",
       "    <tr>\n",
       "      <td>8</td>\n",
       "      <td>0.000000</td>\n",
       "      <td>0.000000</td>\n",
       "      <td>0.000000</td>\n",
       "      <td>0.785969</td>\n",
       "      <td>0.0</td>\n",
       "      <td>0.153775</td>\n",
       "      <td>0.000000</td>\n",
       "      <td>0.058933</td>\n",
       "      <td>0.000000</td>\n",
       "      <td>0.000000</td>\n",
       "    </tr>\n",
       "    <tr>\n",
       "      <td>9</td>\n",
       "      <td>0.013840</td>\n",
       "      <td>0.000000</td>\n",
       "      <td>0.208971</td>\n",
       "      <td>0.000000</td>\n",
       "      <td>0.0</td>\n",
       "      <td>0.145048</td>\n",
       "      <td>0.482460</td>\n",
       "      <td>0.000000</td>\n",
       "      <td>0.000000</td>\n",
       "      <td>0.149353</td>\n",
       "    </tr>\n",
       "  </tbody>\n",
       "</table>\n",
       "</div>"
      ],
      "text/plain": [
       "          0         1         2         3    4         5         6         7  \\\n",
       "0  0.071781  0.039751  0.000000  0.000000  0.0  0.052226  0.000000  0.706418   \n",
       "1  0.000000  0.443454  0.000000  0.000000  0.0  0.000000  0.253661  0.103622   \n",
       "2  0.000000  0.077330  0.000000  0.373155  0.0  0.000000  0.000000  0.548516   \n",
       "3  0.225273  0.000000  0.000000  0.674118  0.0  0.000000  0.000000  0.000000   \n",
       "4  0.000000  0.000000  0.000000  0.000000  0.0  0.000000  0.000000  0.991089   \n",
       "5  0.128236  0.000000  0.000000  0.000000  0.0  0.000000  0.000000  0.387117   \n",
       "6  0.000000  0.000000  0.000000  0.000000  0.0  0.076785  0.000000  0.799350   \n",
       "7  0.000000  0.315085  0.000000  0.000000  0.0  0.223108  0.062163  0.000000   \n",
       "8  0.000000  0.000000  0.000000  0.785969  0.0  0.153775  0.000000  0.058933   \n",
       "9  0.013840  0.000000  0.208971  0.000000  0.0  0.145048  0.482460  0.000000   \n",
       "\n",
       "          8         9  \n",
       "0  0.000000  0.128737  \n",
       "1  0.000000  0.198086  \n",
       "2  0.000000  0.000000  \n",
       "3  0.099121  0.000000  \n",
       "4  0.000000  0.000000  \n",
       "5  0.000000  0.482652  \n",
       "6  0.122276  0.000000  \n",
       "7  0.397251  0.000000  \n",
       "8  0.000000  0.000000  \n",
       "9  0.000000  0.149353  "
      ]
     },
     "execution_count": 145,
     "metadata": {},
     "output_type": "execute_result"
    }
   ],
   "source": [
    "document_topic.head(10)"
   ]
  },
  {
   "cell_type": "code",
   "execution_count": 146,
   "metadata": {},
   "outputs": [
    {
     "data": {
      "text/plain": [
       "(38932, 10)"
      ]
     },
     "execution_count": 146,
     "metadata": {},
     "output_type": "execute_result"
    }
   ],
   "source": [
    "document_topic.shape"
   ]
  },
  {
   "cell_type": "code",
   "execution_count": 148,
   "metadata": {},
   "outputs": [
    {
     "data": {
      "text/plain": [
       "<matplotlib.axes._subplots.AxesSubplot at 0x1a818222f48>"
      ]
     },
     "execution_count": 148,
     "metadata": {},
     "output_type": "execute_result"
    },
    {
     "data": {
      "image/png": "[encoded data removed]",
      "text/plain": [
       "<Figure size 720x1440 with 2 Axes>"
      ]
     },
     "metadata": {},
     "output_type": "display_data"
    }
   ],
   "source": [
    "# distribution of topics in all documents\n",
    "\n",
    "%matplotlib inline\n",
    "sns.set(rc={'figure.figsize':(10,20)})\n",
    "sns.heatmap(document_topic.loc[document_topic.idxmax(axis=1).sort_values().index])"
   ]
  },
  {
   "cell_type": "code",
   "execution_count": 149,
   "metadata": {},
   "outputs": [],
   "source": [
    "# reset indexes for both dataframes for later merging\n",
    "\n",
    "document_topic['index'] = document_topic.index\n",
    "data = data.reset_index(drop = True) \n",
    "data['index'] = data.index"
   ]
  },
  {
   "cell_type": "code",
   "execution_count": 150,
   "metadata": {},
   "outputs": [
    {
     "name": "stdout",
     "output_type": "stream",
     "text": [
      "38932\n",
      "38932\n"
     ]
    }
   ],
   "source": [
    "print(len(document_topic['index'].unique()))\n",
    "print(len(data['index'].unique()))"
   ]
  },
  {
   "cell_type": "code",
   "execution_count": 154,
   "metadata": {},
   "outputs": [
    {
     "data": {
      "text/plain": [
       "(38932, 16)"
      ]
     },
     "execution_count": 154,
     "metadata": {},
     "output_type": "execute_result"
    }
   ],
   "source": [
    "merged = data.merge(document_topic, on = 'index')\n",
    "merged.shape"
   ]
  },
  {
   "cell_type": "code",
   "execution_count": 152,
   "metadata": {},
   "outputs": [
    {
     "data": {
      "text/html": [
       "<div>\n",
       "<style scoped>\n",
       "    .dataframe tbody tr th:only-of-type {\n",
       "        vertical-align: middle;\n",
       "    }\n",
       "\n",
       "    .dataframe tbody tr th {\n",
       "        vertical-align: top;\n",
       "    }\n",
       "\n",
       "    .dataframe thead th {\n",
       "        text-align: right;\n",
       "    }\n",
       "</style>\n",
       "<table border=\"1\" class=\"dataframe\">\n",
       "  <thead>\n",
       "    <tr style=\"text-align: right;\">\n",
       "      <th></th>\n",
       "      <th>User_ID</th>\n",
       "      <th>Description</th>\n",
       "      <th>Is_Response</th>\n",
       "      <th>hotel_ID</th>\n",
       "      <th>tokenized_des</th>\n",
       "      <th>index</th>\n",
       "      <th>0</th>\n",
       "      <th>1</th>\n",
       "      <th>2</th>\n",
       "      <th>3</th>\n",
       "      <th>4</th>\n",
       "      <th>5</th>\n",
       "      <th>6</th>\n",
       "      <th>7</th>\n",
       "      <th>8</th>\n",
       "      <th>9</th>\n",
       "    </tr>\n",
       "  </thead>\n",
       "  <tbody>\n",
       "    <tr>\n",
       "      <td>0</td>\n",
       "      <td>id10329</td>\n",
       "      <td>stayed here with husband and sons on the way t...</td>\n",
       "      <td>happy</td>\n",
       "      <td>8</td>\n",
       "      <td>[stayed, husband, sons, way, alaska, cruise, l...</td>\n",
       "      <td>0</td>\n",
       "      <td>0.071781</td>\n",
       "      <td>0.039751</td>\n",
       "      <td>0.000000</td>\n",
       "      <td>0.000000</td>\n",
       "      <td>0.0</td>\n",
       "      <td>0.052226</td>\n",
       "      <td>0.000000</td>\n",
       "      <td>0.706418</td>\n",
       "      <td>0.000000</td>\n",
       "      <td>0.128737</td>\n",
       "    </tr>\n",
       "    <tr>\n",
       "      <td>1</td>\n",
       "      <td>id10331</td>\n",
       "      <td>we had - rooms one was very nice and clearly h...</td>\n",
       "      <td>happy</td>\n",
       "      <td>3</td>\n",
       "      <td>[rooms, one, nice, clearly, updated, recently,...</td>\n",
       "      <td>1</td>\n",
       "      <td>0.000000</td>\n",
       "      <td>0.443454</td>\n",
       "      <td>0.000000</td>\n",
       "      <td>0.000000</td>\n",
       "      <td>0.0</td>\n",
       "      <td>0.000000</td>\n",
       "      <td>0.253661</td>\n",
       "      <td>0.103622</td>\n",
       "      <td>0.000000</td>\n",
       "      <td>0.198086</td>\n",
       "    </tr>\n",
       "    <tr>\n",
       "      <td>2</td>\n",
       "      <td>id10333</td>\n",
       "      <td>my wife  i stayed in this glorious city a whil...</td>\n",
       "      <td>happy</td>\n",
       "      <td>3</td>\n",
       "      <td>[wife, stayed, glorious, city, back, sf, expen...</td>\n",
       "      <td>2</td>\n",
       "      <td>0.000000</td>\n",
       "      <td>0.077330</td>\n",
       "      <td>0.000000</td>\n",
       "      <td>0.373155</td>\n",
       "      <td>0.0</td>\n",
       "      <td>0.000000</td>\n",
       "      <td>0.000000</td>\n",
       "      <td>0.548516</td>\n",
       "      <td>0.000000</td>\n",
       "      <td>0.000000</td>\n",
       "    </tr>\n",
       "    <tr>\n",
       "      <td>3</td>\n",
       "      <td>id10334</td>\n",
       "      <td>my boyfriend and i stayed at the fairmont on a...</td>\n",
       "      <td>happy</td>\n",
       "      <td>7</td>\n",
       "      <td>[boyfriend, stayed, fairmont, recent, trip, sa...</td>\n",
       "      <td>3</td>\n",
       "      <td>0.225273</td>\n",
       "      <td>0.000000</td>\n",
       "      <td>0.000000</td>\n",
       "      <td>0.674118</td>\n",
       "      <td>0.0</td>\n",
       "      <td>0.000000</td>\n",
       "      <td>0.000000</td>\n",
       "      <td>0.000000</td>\n",
       "      <td>0.099121</td>\n",
       "      <td>0.000000</td>\n",
       "    </tr>\n",
       "    <tr>\n",
       "      <td>4</td>\n",
       "      <td>id10336</td>\n",
       "      <td>steps off times square nice rooms stayed - nig...</td>\n",
       "      <td>happy</td>\n",
       "      <td>3</td>\n",
       "      <td>[steps, times, square, nice, rooms, stayed, ni...</td>\n",
       "      <td>4</td>\n",
       "      <td>0.000000</td>\n",
       "      <td>0.000000</td>\n",
       "      <td>0.000000</td>\n",
       "      <td>0.000000</td>\n",
       "      <td>0.0</td>\n",
       "      <td>0.000000</td>\n",
       "      <td>0.000000</td>\n",
       "      <td>0.991089</td>\n",
       "      <td>0.000000</td>\n",
       "      <td>0.000000</td>\n",
       "    </tr>\n",
       "    <tr>\n",
       "      <td>5</td>\n",
       "      <td>id10337</td>\n",
       "      <td>me the wife and - kids stayed here on valentin...</td>\n",
       "      <td>happy</td>\n",
       "      <td>7</td>\n",
       "      <td>[wife, kids, stayed, weekend, really, nice, ho...</td>\n",
       "      <td>5</td>\n",
       "      <td>0.128236</td>\n",
       "      <td>0.000000</td>\n",
       "      <td>0.000000</td>\n",
       "      <td>0.000000</td>\n",
       "      <td>0.0</td>\n",
       "      <td>0.000000</td>\n",
       "      <td>0.000000</td>\n",
       "      <td>0.387117</td>\n",
       "      <td>0.000000</td>\n",
       "      <td>0.482652</td>\n",
       "    </tr>\n",
       "    <tr>\n",
       "      <td>6</td>\n",
       "      <td>id10339</td>\n",
       "      <td>i highly recommend the hawthorne terrace as an...</td>\n",
       "      <td>happy</td>\n",
       "      <td>8</td>\n",
       "      <td>[highly, recommend, hawthorne, terrace, afford...</td>\n",
       "      <td>6</td>\n",
       "      <td>0.000000</td>\n",
       "      <td>0.000000</td>\n",
       "      <td>0.000000</td>\n",
       "      <td>0.000000</td>\n",
       "      <td>0.0</td>\n",
       "      <td>0.076785</td>\n",
       "      <td>0.000000</td>\n",
       "      <td>0.799350</td>\n",
       "      <td>0.122276</td>\n",
       "      <td>0.000000</td>\n",
       "    </tr>\n",
       "    <tr>\n",
       "      <td>7</td>\n",
       "      <td>id10340</td>\n",
       "      <td>i found the hotel clean and nicely located goo...</td>\n",
       "      <td>happy</td>\n",
       "      <td>3</td>\n",
       "      <td>[found, hotel, clean, nicely, located, good, f...</td>\n",
       "      <td>7</td>\n",
       "      <td>0.000000</td>\n",
       "      <td>0.315085</td>\n",
       "      <td>0.000000</td>\n",
       "      <td>0.000000</td>\n",
       "      <td>0.0</td>\n",
       "      <td>0.223108</td>\n",
       "      <td>0.062163</td>\n",
       "      <td>0.000000</td>\n",
       "      <td>0.397251</td>\n",
       "      <td>0.000000</td>\n",
       "    </tr>\n",
       "    <tr>\n",
       "      <td>8</td>\n",
       "      <td>id10341</td>\n",
       "      <td>stayed at the elan from --th to --th october a...</td>\n",
       "      <td>happy</td>\n",
       "      <td>1</td>\n",
       "      <td>[stayed, elan, october, liked, much, returned,...</td>\n",
       "      <td>8</td>\n",
       "      <td>0.000000</td>\n",
       "      <td>0.000000</td>\n",
       "      <td>0.000000</td>\n",
       "      <td>0.785969</td>\n",
       "      <td>0.0</td>\n",
       "      <td>0.153775</td>\n",
       "      <td>0.000000</td>\n",
       "      <td>0.058933</td>\n",
       "      <td>0.000000</td>\n",
       "      <td>0.000000</td>\n",
       "    </tr>\n",
       "    <tr>\n",
       "      <td>9</td>\n",
       "      <td>id10344</td>\n",
       "      <td>we stayed here for - nights and were really ha...</td>\n",
       "      <td>happy</td>\n",
       "      <td>5</td>\n",
       "      <td>[stayed, nights, really, happy, located, walk,...</td>\n",
       "      <td>9</td>\n",
       "      <td>0.013840</td>\n",
       "      <td>0.000000</td>\n",
       "      <td>0.208971</td>\n",
       "      <td>0.000000</td>\n",
       "      <td>0.0</td>\n",
       "      <td>0.145048</td>\n",
       "      <td>0.482460</td>\n",
       "      <td>0.000000</td>\n",
       "      <td>0.000000</td>\n",
       "      <td>0.149353</td>\n",
       "    </tr>\n",
       "  </tbody>\n",
       "</table>\n",
       "</div>"
      ],
      "text/plain": [
       "   User_ID                                        Description Is_Response  \\\n",
       "0  id10329  stayed here with husband and sons on the way t...       happy   \n",
       "1  id10331  we had - rooms one was very nice and clearly h...       happy   \n",
       "2  id10333  my wife  i stayed in this glorious city a whil...       happy   \n",
       "3  id10334  my boyfriend and i stayed at the fairmont on a...       happy   \n",
       "4  id10336  steps off times square nice rooms stayed - nig...       happy   \n",
       "5  id10337  me the wife and - kids stayed here on valentin...       happy   \n",
       "6  id10339  i highly recommend the hawthorne terrace as an...       happy   \n",
       "7  id10340  i found the hotel clean and nicely located goo...       happy   \n",
       "8  id10341  stayed at the elan from --th to --th october a...       happy   \n",
       "9  id10344  we stayed here for - nights and were really ha...       happy   \n",
       "\n",
       "   hotel_ID                                      tokenized_des  index  \\\n",
       "0         8  [stayed, husband, sons, way, alaska, cruise, l...      0   \n",
       "1         3  [rooms, one, nice, clearly, updated, recently,...      1   \n",
       "2         3  [wife, stayed, glorious, city, back, sf, expen...      2   \n",
       "3         7  [boyfriend, stayed, fairmont, recent, trip, sa...      3   \n",
       "4         3  [steps, times, square, nice, rooms, stayed, ni...      4   \n",
       "5         7  [wife, kids, stayed, weekend, really, nice, ho...      5   \n",
       "6         8  [highly, recommend, hawthorne, terrace, afford...      6   \n",
       "7         3  [found, hotel, clean, nicely, located, good, f...      7   \n",
       "8         1  [stayed, elan, october, liked, much, returned,...      8   \n",
       "9         5  [stayed, nights, really, happy, located, walk,...      9   \n",
       "\n",
       "          0         1         2         3    4         5         6         7  \\\n",
       "0  0.071781  0.039751  0.000000  0.000000  0.0  0.052226  0.000000  0.706418   \n",
       "1  0.000000  0.443454  0.000000  0.000000  0.0  0.000000  0.253661  0.103622   \n",
       "2  0.000000  0.077330  0.000000  0.373155  0.0  0.000000  0.000000  0.548516   \n",
       "3  0.225273  0.000000  0.000000  0.674118  0.0  0.000000  0.000000  0.000000   \n",
       "4  0.000000  0.000000  0.000000  0.000000  0.0  0.000000  0.000000  0.991089   \n",
       "5  0.128236  0.000000  0.000000  0.000000  0.0  0.000000  0.000000  0.387117   \n",
       "6  0.000000  0.000000  0.000000  0.000000  0.0  0.076785  0.000000  0.799350   \n",
       "7  0.000000  0.315085  0.000000  0.000000  0.0  0.223108  0.062163  0.000000   \n",
       "8  0.000000  0.000000  0.000000  0.785969  0.0  0.153775  0.000000  0.058933   \n",
       "9  0.013840  0.000000  0.208971  0.000000  0.0  0.145048  0.482460  0.000000   \n",
       "\n",
       "          8         9  \n",
       "0  0.000000  0.128737  \n",
       "1  0.000000  0.198086  \n",
       "2  0.000000  0.000000  \n",
       "3  0.099121  0.000000  \n",
       "4  0.000000  0.000000  \n",
       "5  0.000000  0.482652  \n",
       "6  0.122276  0.000000  \n",
       "7  0.397251  0.000000  \n",
       "8  0.000000  0.000000  \n",
       "9  0.000000  0.149353  "
      ]
     },
     "execution_count": 152,
     "metadata": {},
     "output_type": "execute_result"
    }
   ],
   "source": [
    "merged.head(10)"
   ]
  },
  {
   "cell_type": "code",
   "execution_count": 153,
   "metadata": {},
   "outputs": [
    {
     "data": {
      "text/html": [
       "<div>\n",
       "<style scoped>\n",
       "    .dataframe tbody tr th:only-of-type {\n",
       "        vertical-align: middle;\n",
       "    }\n",
       "\n",
       "    .dataframe tbody tr th {\n",
       "        vertical-align: top;\n",
       "    }\n",
       "\n",
       "    .dataframe thead th {\n",
       "        text-align: right;\n",
       "    }\n",
       "</style>\n",
       "<table border=\"1\" class=\"dataframe\">\n",
       "  <thead>\n",
       "    <tr style=\"text-align: right;\">\n",
       "      <th></th>\n",
       "      <th>index</th>\n",
       "      <th>0</th>\n",
       "      <th>1</th>\n",
       "      <th>2</th>\n",
       "      <th>3</th>\n",
       "      <th>4</th>\n",
       "      <th>5</th>\n",
       "      <th>6</th>\n",
       "      <th>7</th>\n",
       "      <th>8</th>\n",
       "      <th>9</th>\n",
       "    </tr>\n",
       "    <tr>\n",
       "      <th>hotel_ID</th>\n",
       "      <th></th>\n",
       "      <th></th>\n",
       "      <th></th>\n",
       "      <th></th>\n",
       "      <th></th>\n",
       "      <th></th>\n",
       "      <th></th>\n",
       "      <th></th>\n",
       "      <th></th>\n",
       "      <th></th>\n",
       "      <th></th>\n",
       "    </tr>\n",
       "  </thead>\n",
       "  <tbody>\n",
       "    <tr>\n",
       "      <td>1</td>\n",
       "      <td>21970.108934</td>\n",
       "      <td>0.077309</td>\n",
       "      <td>0.176150</td>\n",
       "      <td>0.059466</td>\n",
       "      <td>0.142059</td>\n",
       "      <td>0.110123</td>\n",
       "      <td>0.037853</td>\n",
       "      <td>0.075909</td>\n",
       "      <td>0.185543</td>\n",
       "      <td>0.085780</td>\n",
       "      <td>0.048041</td>\n",
       "    </tr>\n",
       "    <tr>\n",
       "      <td>2</td>\n",
       "      <td>22956.011662</td>\n",
       "      <td>0.078553</td>\n",
       "      <td>0.183207</td>\n",
       "      <td>0.061289</td>\n",
       "      <td>0.129653</td>\n",
       "      <td>0.120626</td>\n",
       "      <td>0.038677</td>\n",
       "      <td>0.080674</td>\n",
       "      <td>0.172749</td>\n",
       "      <td>0.087966</td>\n",
       "      <td>0.044844</td>\n",
       "    </tr>\n",
       "    <tr>\n",
       "      <td>3</td>\n",
       "      <td>19429.015545</td>\n",
       "      <td>0.071638</td>\n",
       "      <td>0.151205</td>\n",
       "      <td>0.065558</td>\n",
       "      <td>0.148026</td>\n",
       "      <td>0.098678</td>\n",
       "      <td>0.042022</td>\n",
       "      <td>0.076821</td>\n",
       "      <td>0.208763</td>\n",
       "      <td>0.084409</td>\n",
       "      <td>0.051057</td>\n",
       "    </tr>\n",
       "    <tr>\n",
       "      <td>4</td>\n",
       "      <td>19457.661896</td>\n",
       "      <td>0.068353</td>\n",
       "      <td>0.152875</td>\n",
       "      <td>0.066354</td>\n",
       "      <td>0.150093</td>\n",
       "      <td>0.100722</td>\n",
       "      <td>0.039116</td>\n",
       "      <td>0.078877</td>\n",
       "      <td>0.208291</td>\n",
       "      <td>0.084613</td>\n",
       "      <td>0.048933</td>\n",
       "    </tr>\n",
       "    <tr>\n",
       "      <td>5</td>\n",
       "      <td>16602.372793</td>\n",
       "      <td>0.065106</td>\n",
       "      <td>0.122917</td>\n",
       "      <td>0.068919</td>\n",
       "      <td>0.163841</td>\n",
       "      <td>0.080990</td>\n",
       "      <td>0.040678</td>\n",
       "      <td>0.081520</td>\n",
       "      <td>0.234530</td>\n",
       "      <td>0.080940</td>\n",
       "      <td>0.058714</td>\n",
       "    </tr>\n",
       "    <tr>\n",
       "      <td>6</td>\n",
       "      <td>18771.293863</td>\n",
       "      <td>0.071822</td>\n",
       "      <td>0.148519</td>\n",
       "      <td>0.071189</td>\n",
       "      <td>0.152416</td>\n",
       "      <td>0.090743</td>\n",
       "      <td>0.038418</td>\n",
       "      <td>0.084035</td>\n",
       "      <td>0.205333</td>\n",
       "      <td>0.084549</td>\n",
       "      <td>0.051178</td>\n",
       "    </tr>\n",
       "    <tr>\n",
       "      <td>7</td>\n",
       "      <td>21648.918751</td>\n",
       "      <td>0.073684</td>\n",
       "      <td>0.174320</td>\n",
       "      <td>0.062331</td>\n",
       "      <td>0.136818</td>\n",
       "      <td>0.108878</td>\n",
       "      <td>0.036024</td>\n",
       "      <td>0.079930</td>\n",
       "      <td>0.190950</td>\n",
       "      <td>0.086229</td>\n",
       "      <td>0.049087</td>\n",
       "    </tr>\n",
       "    <tr>\n",
       "      <td>8</td>\n",
       "      <td>16399.803288</td>\n",
       "      <td>0.061252</td>\n",
       "      <td>0.121459</td>\n",
       "      <td>0.066820</td>\n",
       "      <td>0.165556</td>\n",
       "      <td>0.083616</td>\n",
       "      <td>0.045274</td>\n",
       "      <td>0.080833</td>\n",
       "      <td>0.240491</td>\n",
       "      <td>0.077917</td>\n",
       "      <td>0.054955</td>\n",
       "    </tr>\n",
       "    <tr>\n",
       "      <td>9</td>\n",
       "      <td>22659.025100</td>\n",
       "      <td>0.075925</td>\n",
       "      <td>0.177615</td>\n",
       "      <td>0.057539</td>\n",
       "      <td>0.135367</td>\n",
       "      <td>0.123529</td>\n",
       "      <td>0.036082</td>\n",
       "      <td>0.078409</td>\n",
       "      <td>0.175121</td>\n",
       "      <td>0.088285</td>\n",
       "      <td>0.050385</td>\n",
       "    </tr>\n",
       "    <tr>\n",
       "      <td>10</td>\n",
       "      <td>22622.547320</td>\n",
       "      <td>0.076860</td>\n",
       "      <td>0.187735</td>\n",
       "      <td>0.064806</td>\n",
       "      <td>0.127340</td>\n",
       "      <td>0.120043</td>\n",
       "      <td>0.034246</td>\n",
       "      <td>0.079263</td>\n",
       "      <td>0.168137</td>\n",
       "      <td>0.089995</td>\n",
       "      <td>0.049856</td>\n",
       "    </tr>\n",
       "  </tbody>\n",
       "</table>\n",
       "</div>"
      ],
      "text/plain": [
       "                 index         0         1         2         3         4  \\\n",
       "hotel_ID                                                                   \n",
       "1         21970.108934  0.077309  0.176150  0.059466  0.142059  0.110123   \n",
       "2         22956.011662  0.078553  0.183207  0.061289  0.129653  0.120626   \n",
       "3         19429.015545  0.071638  0.151205  0.065558  0.148026  0.098678   \n",
       "4         19457.661896  0.068353  0.152875  0.066354  0.150093  0.100722   \n",
       "5         16602.372793  0.065106  0.122917  0.068919  0.163841  0.080990   \n",
       "6         18771.293863  0.071822  0.148519  0.071189  0.152416  0.090743   \n",
       "7         21648.918751  0.073684  0.174320  0.062331  0.136818  0.108878   \n",
       "8         16399.803288  0.061252  0.121459  0.066820  0.165556  0.083616   \n",
       "9         22659.025100  0.075925  0.177615  0.057539  0.135367  0.123529   \n",
       "10        22622.547320  0.076860  0.187735  0.064806  0.127340  0.120043   \n",
       "\n",
       "                 5         6         7         8         9  \n",
       "hotel_ID                                                    \n",
       "1         0.037853  0.075909  0.185543  0.085780  0.048041  \n",
       "2         0.038677  0.080674  0.172749  0.087966  0.044844  \n",
       "3         0.042022  0.076821  0.208763  0.084409  0.051057  \n",
       "4         0.039116  0.078877  0.208291  0.084613  0.048933  \n",
       "5         0.040678  0.081520  0.234530  0.080940  0.058714  \n",
       "6         0.038418  0.084035  0.205333  0.084549  0.051178  \n",
       "7         0.036024  0.079930  0.190950  0.086229  0.049087  \n",
       "8         0.045274  0.080833  0.240491  0.077917  0.054955  \n",
       "9         0.036082  0.078409  0.175121  0.088285  0.050385  \n",
       "10        0.034246  0.079263  0.168137  0.089995  0.049856  "
      ]
     },
     "execution_count": 153,
     "metadata": {},
     "output_type": "execute_result"
    }
   ],
   "source": [
    "# group by hotel id and get the mean of % relevance per topic by hotels\n",
    "\n",
    "merged.groupby('hotel_ID').mean()"
   ]
  },
  {
   "cell_type": "markdown",
   "metadata": {},
   "source": [
    "### Step 4: identify topics among reviews specific to each hotel"
   ]
  },
  {
   "cell_type": "code",
   "execution_count": 177,
   "metadata": {},
   "outputs": [
    {
     "name": "stdout",
     "output_type": "stream",
     "text": [
      "Wall time: 0 ns\n",
      "3929\n",
      "Topic for Hotel 1\n",
      "[(0, '0.010*\"stay\" + 0.009*\"would\" + 0.008*\"staff\" + 0.008*\"rooms\" + 0.007*\"great\" + 0.007*\"one\" + 0.007*\"good\" + 0.006*\"nice\" + 0.006*\"night\" + 0.006*\"us\"')]\n",
      "2058\n",
      "Topic for Hotel 2\n",
      "[(0, '0.008*\"stay\" + 0.008*\"staff\" + 0.008*\"rooms\" + 0.008*\"one\" + 0.008*\"would\" + 0.007*\"night\" + 0.007*\"clean\" + 0.006*\"service\" + 0.006*\"good\" + 0.006*\"stayed\"')]\n",
      "5082\n",
      "Topic for Hotel 3\n",
      "[(0, '0.009*\"stay\" + 0.009*\"would\" + 0.008*\"staff\" + 0.008*\"one\" + 0.008*\"great\" + 0.007*\"rooms\" + 0.006*\"good\" + 0.006*\"location\" + 0.006*\"nice\" + 0.006*\"night\"')]\n",
      "6847\n",
      "Topic for Hotel 4\n",
      "[(0, '0.009*\"stay\" + 0.009*\"would\" + 0.008*\"staff\" + 0.008*\"one\" + 0.007*\"rooms\" + 0.007*\"great\" + 0.006*\"good\" + 0.006*\"nice\" + 0.006*\"stayed\" + 0.006*\"us\"')]\n",
      "6682\n",
      "Topic for Hotel 5\n",
      "[(0, '0.010*\"stay\" + 0.009*\"would\" + 0.008*\"great\" + 0.008*\"rooms\" + 0.007*\"one\" + 0.007*\"good\" + 0.007*\"location\" + 0.006*\"us\" + 0.006*\"stayed\" + 0.006*\"nice\"')]\n",
      "1157\n",
      "Topic for Hotel 6\n",
      "[(0, '0.011*\"stay\" + 0.010*\"great\" + 0.008*\"would\" + 0.008*\"good\" + 0.007*\"nice\" + 0.007*\"one\" + 0.007*\"location\" + 0.007*\"rooms\" + 0.007*\"stayed\" + 0.006*\"clean\"')]\n",
      "5317\n",
      "Topic for Hotel 7\n",
      "[(0, '0.009*\"stay\" + 0.009*\"would\" + 0.008*\"staff\" + 0.008*\"rooms\" + 0.007*\"one\" + 0.007*\"great\" + 0.007*\"good\" + 0.006*\"location\" + 0.006*\"nice\" + 0.006*\"night\"')]\n",
      "5353\n",
      "Topic for Hotel 8\n",
      "[(0, '0.010*\"stay\" + 0.010*\"great\" + 0.009*\"would\" + 0.007*\"rooms\" + 0.007*\"good\" + 0.007*\"location\" + 0.007*\"one\" + 0.007*\"nice\" + 0.006*\"stayed\" + 0.006*\"clean\"')]\n",
      "996\n",
      "Topic for Hotel 9\n",
      "[(0, '0.010*\"stay\" + 0.009*\"would\" + 0.009*\"staff\" + 0.008*\"great\" + 0.008*\"one\" + 0.008*\"rooms\" + 0.007*\"good\" + 0.007*\"nice\" + 0.007*\"location\" + 0.006*\"us\"')]\n",
      "1511\n",
      "Topic for Hotel 10\n",
      "[(0, '0.009*\"would\" + 0.008*\"staff\" + 0.008*\"rooms\" + 0.008*\"great\" + 0.008*\"one\" + 0.007*\"good\" + 0.006*\"night\" + 0.006*\"nice\" + 0.006*\"stayed\" + 0.006*\"location\"')]\n"
     ]
    }
   ],
   "source": [
    "# generate 1 topic and print words per hotel\n",
    "\n",
    "%time\n",
    "num_topics = 1\n",
    "\n",
    "for i in range(1, 11):\n",
    "    temp_data = data[data['hotel_ID'] == i]\n",
    "    temp_tokens = temp_data['tokens']\n",
    "    print(len(temp_tokens))\n",
    "    dictionary_LDA = corpora.Dictionary(temp_tokens)\n",
    "    dictionary_LDA.filter_extremes(no_below=3)\n",
    "    corpus = [dictionary_LDA.doc2bow(token) for token in temp_tokens]\n",
    "    lda_model = models.LdaModel(corpus, num_topics=num_topics, \\\n",
    "                                  id2word=dictionary_LDA, \\\n",
    "                                  passes=4, alpha=[0.01]*num_topics, \\\n",
    "                                  eta=[0.01]*len(dictionary_LDA.keys()))\n",
    "    print('Topic for Hotel', i)\n",
    "    print(lda_model.print_topics())"
   ]
  },
  {
   "cell_type": "code",
   "execution_count": null,
   "metadata": {},
   "outputs": [],
   "source": []
  },
  {
   "cell_type": "code",
   "execution_count": null,
   "metadata": {},
   "outputs": [],
   "source": []
  }
 ],
 "metadata": {
  "kernelspec": {
   "display_name": "Python 3",
   "language": "python",
   "name": "python3"
  },
  "language_info": {
   "codemirror_mode": {
    "name": "ipython",
    "version": 3
   },
   "file_extension": ".py",
   "mimetype": "text/x-python",
   "name": "python",
   "nbconvert_exporter": "python",
   "pygments_lexer": "ipython3",
   "version": "3.7.4"
  }
 },
 "nbformat": 4,
 "nbformat_minor": 2
}
